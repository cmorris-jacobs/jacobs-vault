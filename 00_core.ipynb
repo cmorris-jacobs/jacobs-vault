{
 "cells": [
  {
   "cell_type": "code",
   "execution_count": null,
   "metadata": {},
   "outputs": [
    {
     "name": "stdout",
     "output_type": "stream",
     "text": [
      "The autoreload extension is already loaded. To reload it, use:\n  %reload_ext autoreload\n"
     ]
    }
   ],
   "source": [
    "# default_exp vault\n",
    "%load_ext autoreload\n",
    "%autoreload 2"
   ]
  },
  {
   "cell_type": "markdown",
   "metadata": {},
   "source": [
    "# Vault (Jacobs)\n",
    "\n",
    "> API details...\n",
    "> Contains Jacobs' response to the VAULT challenge problem to correlate noisy satellite TLE data with AIS ship tracks, and see what we can find.  (Add more info later.)"
   ]
  },
  {
   "cell_type": "code",
   "execution_count": null,
   "metadata": {},
   "outputs": [],
   "source": [
    "#hide\n",
    "from nbdev.showdoc import *"
   ]
  },
  {
   "cell_type": "code",
   "execution_count": null,
   "metadata": {},
   "outputs": [],
   "source": [
    "#export\n",
    "class Vault:\n",
    "    \"\"\"Probably this should really be 'AIS' or 'Satellite' or some such.\n",
    "\n",
    "    Attributes:\n",
    "       blah:  integer 0-255\n",
    "       bleh:  ufloat\n",
    "    \"\"\"\n",
    "\n",
    "    core_attribute = None\n",
    "    some_things = ['list', 'of', 'things']\n",
    "\n",
    "    def __init__(self, a, b):\n",
    "        self.a = a\n",
    "        self.b = b\n",
    "\n",
    "    def __str__(self):\n",
    "        return f\"a = {self.a}\\nb = {self.b}\"\n",
    "\n",
    "    def __repr__(self):\n",
    "        return self.__str__()\n",
    "\n",
    "    def __eq__(self, other):\n",
    "        return self.a == other.a and self.b == other.b\n",
    "\n",
    "    def solve(self):\n",
    "        print(\"Done. That was easy!\")\n"
   ]
  },
  {
   "cell_type": "markdown",
   "metadata": {},
   "source": [
    "`Vault` is a future class to solve the VAULT AIS-Satellite Christmas challenges.\n",
    "\n",
    "For example:"
   ]
  },
  {
   "cell_type": "code",
   "execution_count": null,
   "metadata": {},
   "outputs": [
    {
     "data": {
      "text/plain": [
       "a = {'AIS': 'AIS data', 'TLE': 'Satellite data'}\n",
       "b = First try"
      ]
     },
     "execution_count": null,
     "metadata": {},
     "output_type": "execute_result"
    }
   ],
   "source": [
    "Vault({'AIS': 'AIS data', 'TLE': 'Satellite data'}, \"First try\")"
   ]
  },
  {
   "cell_type": "markdown",
   "metadata": {},
   "source": [
    "Compliant solutions need snazzy visualizations. Vault supports SVG rendering of geospatial data:"
   ]
  },
  {
   "cell_type": "code",
   "execution_count": null,
   "metadata": {},
   "outputs": [
    {
     "data": {
      "image/svg+xml": "<svg height=\"100\"><circle cx=\"50\" cy=\"50\" r=\"40\" fill=\"none\" stroke=\"blue\" stroke-width=\"10\"/></svg>",
      "text/plain": "<IPython.core.display.SVG object>"
     },
     "metadata": {},
     "output_type": "display_data"
    }
   ],
   "source": [
    "from IPython.display import display, SVG\n",
    "display(SVG('<svg height=\"100\"><circle cx=\"50\" cy=\"50\" r=\"40\" fill=\"none\" stroke=\"blue\" stroke-width=\"10\"/></svg>'))"
   ]
  },
  {
   "cell_type": "markdown",
   "metadata": {},
   "source": [
    "Because we use `nbdev` to develop, assertions in this notebook automatically become tests run by the **Continuous Integration System** in our GitHub repo."
   ]
  },
  {
   "cell_type": "code",
   "execution_count": null,
   "metadata": {},
   "outputs": [],
   "source": [
    "assert Vault(3,4) == Vault(int(\"3\"), int(\"4\"))"
   ]
  },
  {
   "cell_type": "code",
   "execution_count": null,
   "metadata": {},
   "outputs": [],
   "source": []
  }
 ],
 "metadata": {
  "kernelspec": {
   "display_name": "Python 3",
   "language": "python",
   "name": "python3"
  }
 },
 "nbformat": 4,
 "nbformat_minor": 2
}
