{
 "cells": [
  {
   "cell_type": "code",
   "execution_count": null,
   "metadata": {},
   "outputs": [],
   "source": [
    "#hide\n",
    "#skip\n",
    "# Put any special code here e.g. `! [ -e /content ] && pip install -Uqq fastai  # upgrade fastai on colab`"
   ]
  },
  {
   "cell_type": "markdown",
   "metadata": {},
   "source": [
    "# Welcome to Jacobs Vault (needs a better name)!\n",
    "> Vault finds overlaps/gaps between AIS shipping tracks and satellite orbits. [Insert logo here.]\n",
    "\n",
    "- image: /images/layered.png"
   ]
  },
  {
   "cell_type": "markdown",
   "metadata": {},
   "source": [
    "**Important**: Insert any version, installation, pre-req, or dietary warnings here.\n",
    "* Fix these icons - second row is _fastai_, not us!"
   ]
  },
  {
   "cell_type": "markdown",
   "metadata": {},
   "source": [
    "![CI](https://github.com/cmorris-jacobs/jacobs-vault/workflows/CI/badge.svg) ![docs](https://github.com/cmorris-jacobs/jacobs-vault/workflows/docs/badge.svg)\n",
    "\n",
    "# [![PyPI](https://img.shields.io/pypi/v/fastai?color=blue&label=pypi%20version)](https://pypi.org/project/fastai/#description) [![Conda (channel only)](https://img.shields.io/conda/vn/fastai/fastai?color=seagreen&label=conda%20version)](https://anaconda.org/fastai/fastai) [![Build fastai images](https://github.com/fastai/docker-containers/workflows/Build%20fastai%20images/badge.svg)](https://github.com/fastai/docker-containers) "
   ]
  },
  {
   "cell_type": "markdown",
   "metadata": {},
   "source": [
    "## Installing"
   ]
  },
  {
   "cell_type": "markdown",
   "metadata": {},
   "source": [
    "**GOAL:** You can use jacobs-vault without any installation by using [Google Colab](https://colab.research.google.com/). In fact, every page of this documentation is also available as an interactive notebook - click \"Open in colab\" at the top of any page to open it. See the documentation on [FIX FIX FIX](https://NotDone/start_colab) for more information.\n",
    "\n",
    "**GOAL:**\n",
    "You can install jacobs-vault on your own machines with conda (highly recommended). If you're using [Anaconda](https://www.anaconda.com/products/individual) then run:\n",
    "```bash\n",
    "conda install -c <CONDA CHANNEL> jacobs-vault gh anaconda\n",
    "```\n",
    "\n",
    "**GOAL:**\n",
    "...or if you're using [miniconda](https://docs.conda.io/en/latest/miniconda.html)) then run:\n",
    "```bash\n",
    "conda install -c fastai -c pytorch fastai\n",
    "```\n",
    "\n",
    "**GOAL:**\n",
    "To install with pip, use: `pip install fastai`. If you install with pip, you should install PyTorch first by following the PyTorch [installation instructions](https://pytorch.org/get-started/locally/).\n",
    "\n",
    "If you plan to develop ...\n",
    "\n",
    "``` \n",
    "git clone https://github.com/cmorris-jacobs/jacobs-vault\n",
    "pip install -e \"jacobs-vault[dev]\"\n",
    "``` "
   ]
  },
  {
   "cell_type": "markdown",
   "metadata": {},
   "source": [
    "## About jacobs-vault"
   ]
  },
  {
   "cell_type": "markdown",
   "metadata": {},
   "source": [
    "jacobs-vault is organized around an efficient partition of the data to support either distributed Spark/Dash workflows, or fast single-ship satellite queries. \n",
    "\n",
    "* ETL process\n",
    "* approach\n",
    "* libraries\n",
    "* queries\n",
    "* tips\n"
   ]
  },
  {
   "cell_type": "markdown",
   "metadata": {},
   "source": [
    "<img alt=\"Satellites Visible\" src=\"images/polar_plot.png\" width=\"600\">"
   ]
  },
  {
   "cell_type": "markdown",
   "metadata": {},
   "source": [
    "## Tests"
   ]
  },
  {
   "cell_type": "markdown",
   "metadata": {},
   "source": [
    "Everything below needs to be updated for our dependencies etc. "
   ]
  },
  {
   "cell_type": "markdown",
   "metadata": {},
   "source": [
    "To run the tests in parallel, launch:\n",
    "\n",
    "`nbdev_test_nbs` or `make test`\n",
    "\n",
    "For all the tests to pass, you'll need to install the following optional dependencies:\n",
    "\n",
    "```\n",
    "pip install \"sentencepiece<0.1.90\" wandb tensorboard albumentations pydicom opencv-python scikit-image pyarrow kornia \\\n",
    "    catalyst captum neptune-cli\n",
    "```\n",
    "\n",
    "Tests are written using `nbdev`, for example see the documentation for `test_eq`."
   ]
  },
  {
   "cell_type": "markdown",
   "metadata": {},
   "source": [
    "## Contributing"
   ]
  },
  {
   "cell_type": "markdown",
   "metadata": {},
   "source": [
    "After you clone this repository, please run `nbdev_install_git_hooks` in your terminal. This sets up git hooks, which clean up the notebooks to remove the extraneous stuff stored in the notebooks (e.g. which cells you ran) which causes unnecessary merge conflicts.\n",
    "\n",
    "Before submitting a PR, check that the local library and notebooks match. The script `nbdev_diff_nbs` can let you know if there is a difference between the local library and the notebooks.\n",
    "\n",
    "- If you made a change to the notebooks in one of the exported cells, you can export it to the library with `nbdev_build_lib` or `make fastai`.\n",
    "- If you made a change to the library, you can export it back to the notebooks with `nbdev_update_lib`."
   ]
  },
  {
   "cell_type": "markdown",
   "metadata": {},
   "source": [
    "## Docker Containers"
   ]
  },
  {
   "cell_type": "markdown",
   "metadata": {},
   "source": [
    "For those interested in official docker containers for this project, they can be found [here](https://github.com/fastai/docker-containers#fastai)."
   ]
  },
  {
   "cell_type": "code",
   "execution_count": null,
   "metadata": {},
   "outputs": [],
   "source": []
  }
 ],
 "metadata": {
  "jekyll": {
   "keywords": "fastai"
  },
  "jupytext": {
   "split_at_heading": true
  },
  "kernelspec": {
   "display_name": "Python 3",
   "language": "python",
   "name": "python3"
  }
 },
 "nbformat": 4,
 "nbformat_minor": 4
}
