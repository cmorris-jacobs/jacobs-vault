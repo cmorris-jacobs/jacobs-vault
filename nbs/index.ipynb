{
 "cells": [
  {
   "cell_type": "code",
   "execution_count": null,
   "metadata": {},
   "outputs": [],
   "source": [
    "#hide\n",
    "#skip\n",
    "# Put any special code here e.g. `! [ -e /content ] && pip install -Uqq fastai  # upgrade fastai on colab`"
   ]
  },
  {
   "cell_type": "markdown",
   "metadata": {},
   "source": [
    "# Jacobs VAULT\n",
    " \n",
    "> **jacobs-vault** is Jacobs' response to the Air Force VAULT quick-turn data analysis challenge. \n",
    "\n",
    "It contains scripts and notebooks that (a) ingest and characterize the provided AIS shipping tracks and satellite TLE data, (b) find \"hits\" - satellites are visible for a given ship position, and (c) highlight coverage gaps / flaws in the data.  Here is an example starmap showing satellites visible from one point on track, colored by quality of the satellite's TLE data. \n",
    "<table>\n",
    "    <tr style=\"background-color:#EEEEEE\">\n",
    "        <td ><img src=\"images/Jacobs_logo_rgb_black.svg\" width=\"200\"/></td>\n",
    "        <td><img alt=\"Satellites Visible\" src=\"images/polar_plot2.png\" width=\"300\"></td>\n",
    "    </tr>\n",
    "</table>\n",
    "(For demo purposes, we treat all entries in the TLE file as viable satellites, when in reality most are space junk.)"
   ]
  },
  {
   "cell_type": "markdown",
   "metadata": {},
   "source": [
    "## Installing\n",
    "\n",
    "**TBD:** \n",
    "\n",
    "We recommend installing from conda. \n",
    "\n",
    "| Conda | Pip | Git |\n",
    "| ---- | ---- | ---- |\n",
    "| Full [Anaconda](https://www.anaconda.com/products/individual):\n",
    "```bash\n",
    "conda install -c <CONDA CHANNEL> jacobs-vault gh anaconda\n",
    "```\n",
    "[Miniconda](https://docs.conda.io/en/latest/miniconda.html)):\n",
    "```bash\n",
    "conda install -c <CHANNEL> -c jacobs-vault\n",
    "```\n",
    "| ```bash\n",
    "pip install jacobs-vault\n",
    "```\n",
    "| ```bash\n",
    "git clone git@github.com:cmorris-jacobs/jacobs-vault.git\n",
    "```\n",
    "or \n",
    "```bash\n",
    "git clone https://github.com/cmorris-jacobs/jacobs-vault.git\n",
    "```\n",
    "|\n",
    "\n",
    "## Using\n",
    "\n",
    "Change to the `jacobs-vault` folder and ensure that `data/` contains or points to the VAULT data. (SAY MORE!)  Then explore these options:\n",
    "\n",
    "### Demo\n",
    "```bash\n",
    "cd demo\n",
    ". run.sh\n",
    "```\n",
    "May require linking `demo/data` to the data folder, e.g. `ln -s ../data ./`. \n",
    "\n",
    "### Run the notebooks in nbs/\n",
    "Activate the `vault` Python virtual environment and start a new jupyter kernel.\n",
    "```bash\n",
    "conda env -f environment.yml\n",
    "conda activate vault\n",
    "jupyter notebook\n",
    "```\n",
    "You can now explore and run the notebooks in the `nbs/` folder.\n",
    "\n",
    "### Notes\n",
    "* Notebooks in `nbs/` contain `nbdev` markup. The `nbdev` package uses them to generate the project docs (including this README), generate some python modules, run tests, and perform limited Continuous Integration testing upon `git push` events. \n",
    "* Some code expects an Apache Spark setup with Hive and Hadoop available, and we have only tested on our cluster. However, our `cookie-cutter` template packages the Spark environments and our run scripts distribute those to the compute nodes for reproducibility. \n"
   ]
  },
  {
   "cell_type": "markdown",
   "metadata": {},
   "source": [
    "## About jacobs-vault"
   ]
  },
  {
   "cell_type": "markdown",
   "metadata": {},
   "source": [
    "jacobs-vault partitions the data to support either distributed workflows (Spark), or fast single-ship satellite queries. It includes: \n",
    "\n",
    "* ETL scripts in the `etl` folder\n",
    "* Call `skyfield` for ephemeris calculations\n",
    "* Notebooks folder `nbs/` for exploration.\n",
    "  * Via the `nbdev` package, notebooks generate modules that can be called by other scripts, and documentation (including this README).\n",
    "  * `nbs/01_HitTest.ipynb` generates jacobs-vault/hittest.py, used by `hittestservice.py` to display satellite starmaps given queries. \n",
    "* `geotransformer`\n",
    "* `ais-analytics`\n",
    "* ..."
   ]
  },
  {
   "cell_type": "markdown",
   "metadata": {},
   "source": [
    "## Key Required Packages\n",
    "\n",
    "After cloning the repository, use the `conda` package manager to install the main dependencies. (We provide files for `pip`, but we recommend conda.)\n",
    "```bash\n",
    "conda env create -f environment.yml\n",
    "```\n",
    "Key top-level packages fall in three broad categories:\n",
    "\n",
    "### Scientific Python Ecosystem:\n",
    "* Core: numpy, pandas, ipython\n",
    "* Astronomy: skyfield, astropy, GDAL, pyephem, pyorbital  # <-- do we really use all these still?\n",
    "* Clustering: [HDBSCAN](https://hdbscan.readthedocs.io/en/latest/index.html)\n",
    "* Notebooks: jupyter notebook\n",
    "\n",
    "### Cloud Computing\n",
    "* Spark, PySpark, Hive, Hadoop\n",
    "* (Other database as req'd)\n",
    "* Map support: geopandas, ...\n",
    "* Visualization: plotly, (matplotlib?), (leaflet?), (opensphere?)\n",
    "\n",
    "### Literate Programming: \n",
    "* nbdev, cookie-cutter\n"
   ]
  },
  {
   "cell_type": "markdown",
   "metadata": {},
   "source": [
    "## Tests"
   ]
  },
  {
   "cell_type": "markdown",
   "metadata": {},
   "source": [
    "To run the tests in parallel, launch:\n",
    "\n",
    "`nbdev_test_nbs` or `make test`\n",
    "\n",
    "For all the tests to pass, you'll need to install the following optional dependencies:\n",
    "\n",
    "```\n",
    "pip install ...\n",
    "```\n",
    "\n",
    "Tests are written using <code>nbdev</code>, for example see the documentation for `hit_quality` or `viz`."
   ]
  },
  {
   "cell_type": "markdown",
   "metadata": {},
   "source": [
    "## Contributing"
   ]
  },
  {
   "cell_type": "markdown",
   "metadata": {},
   "source": [
    "You can clone the repository and install dependencies with ...\n",
    "\n",
    "``` \n",
    "git clone https://github.com/cmorris-jacobs/jacobs-vault\n",
    "pip install -e \"jacobs-vault[dev]\"\n",
    "``` \n",
    "\n",
    "After you clone this repository, please run `nbdev_install_git_hooks` in your terminal. This sets up git hooks, which clean up the notebooks to remove the extraneous stuff stored in the notebooks (e.g. which cells you ran) which causes unnecessary merge conflicts.\n",
    "\n",
    "Before submitting a PR, check that the local library and notebooks match. The script `nbdev_diff_nbs` can let you know if there is a difference between the local library and the notebooks.\n",
    "\n",
    "- If you made a change to the *notebooks* in one of the exported cells, you can export it to the library with `nbdev_build_lib` or `make jacobs-vault`.\n",
    "- If you made a (small) change to the *library*, you can export it back to the notebooks with `nbdev_update_lib`."
   ]
  },
  {
   "cell_type": "markdown",
   "metadata": {},
   "source": [
    "## Docker Containers"
   ]
  },
  {
   "cell_type": "markdown",
   "metadata": {},
   "source": [
    "We do not yet have official docker containers, but when done they should be available from [the github site](https://github.com/cmorris-jacobs/docker-containers#jacobs-vault)."
   ]
  },
  {
   "cell_type": "code",
   "execution_count": null,
   "metadata": {},
   "outputs": [],
   "source": []
  }
 ],
 "metadata": {
  "jekyll": {
   "keywords": "fastai"
  },
  "jupytext": {
   "split_at_heading": true
  },
  "kernelspec": {
   "display_name": "Python 3",
   "language": "python",
   "name": "python3"
  }
 },
 "nbformat": 4,
 "nbformat_minor": 4
}
