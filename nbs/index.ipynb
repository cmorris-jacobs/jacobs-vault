{
 "cells": [
  {
   "cell_type": "code",
   "execution_count": null,
   "metadata": {},
   "outputs": [],
   "source": [
    "#hide\n",
    "#skip\n",
    "# Put any special code here e.g. `! [ -e /content ] && pip install -Uqq fastai  # upgrade fastai on colab`"
   ]
  },
  {
   "cell_type": "markdown",
   "metadata": {},
   "source": [
    "<table>\n",
    "    <tr style=\"background-color:#EEEEEE\">\n",
    "        <td ><img src=\"images/Jacobs_logo_rgb_black.svg\" width=\"200\"/></td>\n",
    "        <td><img alt=\"Satellites Visible\" src=\"images/polar_plot2.png\" width=\"300\"></td>\n",
    "    </tr>\n",
    "</table>\n",
    "    \n",
    "# Welcome to jacobs-vault.\n",
    " \n",
    "> **jacobs-vault** is Jacobs' response to the Air Force VAULT quick-turn data analysis challenge. \n",
    "\n",
    "It contains scripts and notebooks to (a) ingest the provided AIS shipping tracks and satellite TLE data, (b) find what satellites are visible for a given ship track position, and (c) highlight coverage gaps / flaws in the data. "
   ]
  },
  {
   "cell_type": "markdown",
   "metadata": {},
   "source": [
    "## Installing\n",
    "\n",
    "We used the `nbdev` and `cookie-cutter` environments to ease packaging and installation, but they haven't been fully integrated.  Many queries expect you to have an Apache Spark environment, though in theory that could be on a single machine.  "
   ]
  },
  {
   "cell_type": "markdown",
   "metadata": {},
   "source": [
    "**When done, you should be able to install as follows:** \n",
    "\n",
    "You can install jacobs-vault on your own machines with conda (highly recommended). If you're using [Anaconda](https://www.anaconda.com/products/individual) then run:\n",
    "```bash\n",
    "conda install -c <CONDA CHANNEL> jacobs-vault gh anaconda\n",
    "```\n",
    "...or if you're using [miniconda](https://docs.conda.io/en/latest/miniconda.html)) then run:\n",
    "```bash\n",
    "conda install -c <CHANNEL> -c jacobs-vault\n",
    "```\n",
    "To install with pip, use: `pip install jacobs-vault`. \n",
    "\n",
    "\n",
    "If you plan to develop, see below."
   ]
  },
  {
   "cell_type": "markdown",
   "metadata": {},
   "source": [
    "## About jacobs-vault"
   ]
  },
  {
   "cell_type": "markdown",
   "metadata": {},
   "source": [
    "jacobs-vault partitions the data to support either distributed Spark/Dash workflows, or fast single-ship satellite queries. It includes: \n",
    "\n",
    "* ETL scripts in the `etl` folder\n",
    "* Call `skyfield` for ephemeris calculations\n",
    "* The notebook `nbs/01_HitTest.ipynb` and service `hittestservice/` provide the core functions to read the appropriate TLE file for a given day, and calculate the visible satellites.\n",
    "* `geotransformer`\n",
    "* `ais-analytics`\n",
    "* ..."
   ]
  },
  {
   "cell_type": "markdown",
   "metadata": {},
   "source": [
    "## Key Required Packages\n",
    "\n",
    "Required top-level packages must be listed in `settings.ini`, or the GitHub Continuous Integration tests will fail. There are three broad categories:\n",
    "\n",
    "### Scientific Python Ecosystem:\n",
    "* Anaconda distribution preferred, though pip should work\n",
    "* Core: numpy, pandas\n",
    "* Astronomy: skyfield, ...else?...\n",
    "* Possibly: scikit-learn (not used yet?)\n",
    "* Notebooks: jupyter notebook\n",
    "\n",
    "### Cloud Computing\n",
    "* Spark, PySpark, Hive, Hadoop\n",
    "* (Other database as req'd)\n",
    "* Map support: geopandas, ...\n",
    "* Visualization: plotly, (matplotlib?), (leaflet?), (opensphere?)\n",
    "\n",
    "### Literate Programming: \n",
    "* nbdev, cookie-cutter\n",
    "\n",
    "## conda env\n",
    "You can create the <code>vault</code> conda env using: \n",
    "```bash\n",
    "conda env create -f environment.yml\n",
    "``` \n",
    "and activate it with\n",
    "```bash\n",
    "conda activate vault\n",
    "```\n",
    "\n",
    "The envs/ folder contains related environments for certain pieces. \n"
   ]
  },
  {
   "cell_type": "markdown",
   "metadata": {},
   "source": [
    "## Tests"
   ]
  },
  {
   "cell_type": "markdown",
   "metadata": {},
   "source": [
    "To run the tests in parallel, launch:\n",
    "\n",
    "`nbdev_test_nbs` or `make test`\n",
    "\n",
    "For all the tests to pass, you'll need to install the following optional dependencies:\n",
    "\n",
    "```\n",
    "pip install ...\n",
    "```\n",
    "\n",
    "Tests are written using <code>nbdev</code>, for example see the documentation for `hit_quality` or `viz`."
   ]
  },
  {
   "cell_type": "markdown",
   "metadata": {},
   "source": [
    "## Contributing"
   ]
  },
  {
   "cell_type": "markdown",
   "metadata": {},
   "source": [
    "You can clone the repository and install dependencies with ...\n",
    "\n",
    "``` \n",
    "git clone https://github.com/cmorris-jacobs/jacobs-vault\n",
    "pip install -e \"jacobs-vault[dev]\"\n",
    "``` \n",
    "\n",
    "After you clone this repository, please run `nbdev_install_git_hooks` in your terminal. This sets up git hooks, which clean up the notebooks to remove the extraneous stuff stored in the notebooks (e.g. which cells you ran) which causes unnecessary merge conflicts.\n",
    "\n",
    "Before submitting a PR, check that the local library and notebooks match. The script `nbdev_diff_nbs` can let you know if there is a difference between the local library and the notebooks.\n",
    "\n",
    "- If you made a change to the *notebooks* in one of the exported cells, you can export it to the library with `nbdev_build_lib` or `make jacobs-vault`.\n",
    "- If you made a (small) change to the *library*, you can export it back to the notebooks with `nbdev_update_lib`."
   ]
  },
  {
   "cell_type": "markdown",
   "metadata": {},
   "source": [
    "## Docker Containers"
   ]
  },
  {
   "cell_type": "markdown",
   "metadata": {},
   "source": [
    "We do not yet have official docker containers, but when done they should be available from [the github site](https://github.com/cmorris-jacobs/docker-containers#jacobs-vault)."
   ]
  },
  {
   "cell_type": "code",
   "execution_count": null,
   "metadata": {},
   "outputs": [],
   "source": []
  }
 ],
 "metadata": {
  "jekyll": {
   "keywords": "fastai"
  },
  "jupytext": {
   "split_at_heading": true
  },
  "kernelspec": {
   "display_name": "Python 3",
   "language": "python",
   "name": "python3"
  }
 },
 "nbformat": 4,
 "nbformat_minor": 4
}
