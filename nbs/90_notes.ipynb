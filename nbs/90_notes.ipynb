{
 "cells": [
  {
   "cell_type": "code",
   "execution_count": null,
   "metadata": {},
   "outputs": [
    {
     "name": "stdout",
     "output_type": "stream",
     "text": [
      "The autoreload extension is already loaded. To reload it, use:\n",
      "  %reload_ext autoreload\n"
     ]
    }
   ],
   "source": [
    "# default_exp core\n",
    "%load_ext autoreload\n",
    "%autoreload 2"
   ]
  },
  {
   "cell_type": "code",
   "execution_count": null,
   "metadata": {},
   "outputs": [],
   "source": [
    "from IPython.display import display, SVG"
   ]
  },
  {
   "cell_type": "markdown",
   "metadata": {},
   "source": [
    "# Notes\n",
    "\n",
    "> Extra documentation for `jacobs-vault`.\n",
    "\n",
    "Mostly Markdown.\n"
   ]
  },
  {
   "cell_type": "code",
   "execution_count": null,
   "metadata": {},
   "outputs": [],
   "source": [
    "#hide\n",
    "#from nbdev.showdoc import *"
   ]
  },
  {
   "cell_type": "markdown",
   "metadata": {},
   "source": [
    "## Satellite Coverage Libraries\n",
    "\n",
    "Considered:\n",
    "* pyEphem, but the inverse calcs seem to be broken.\n",
    "* pysat may be of interest, esp. pysat.Orbits\n",
    "* pyOrbital, though for coordinate transform it is included in Skyfield.\n",
    "\n",
    "Selected: **Skyfield**, \"Elegant astronomy for Python\" that uses py-sgp4 for speed. Includes example for [Loading a TLE file](https://rhodesmill.org/skyfield/earth-satellites.html#loading-a-tle-file):\n",
    "  <blockquote>\n",
    "  But the most popular approach is to ask the topocentric position for its \n",
    "  altitude and azimuth coordinates, which tell you whether the satellite is above or \n",
    "  below the horizon:\n",
    "\n",
    "  ```python\n",
    "  alt, az, distance = topocentric.altaz()\n",
    "\n",
    "  if alt.degrees > 0:\n",
    "    print('The ISS is above the horizon')\n",
    "\n",
    "  print(alt)\n",
    "  print(az)\n",
    "  print(int(distance.km), 'km')\n",
    "  The ISS is above the horizon\n",
    "  16deg 16' 32.6\"\n",
    "  350deg 15' 20.4\"\n",
    "  1168 km\n",
    "  ```\n",
    "  </blockquote>\n",
    "  \n",
    "For example, the following loads (old) ISS elements, and asks about rise/set times, and if it is now above the horizon."
   ]
  },
  {
   "cell_type": "code",
   "execution_count": null,
   "metadata": {},
   "outputs": [
    {
     "name": "stdout",
     "output_type": "stream",
     "text": [
      "-42deg 16' 16.3\" 248deg 33' 15.6\" 9008 km\n",
      "2017 Jan 23 05:06:28 rise above 30°\n",
      "2017 Jan 23 05:07:31 culminate\n",
      "2017 Jan 23 05:08:35 set below 30°\n",
      "2017 Jan 23 22:56:38 rise above 30°\n",
      "2017 Jan 23 22:57:13 culminate\n",
      "2017 Jan 23 22:57:48 set below 30°\n"
     ]
    }
   ],
   "source": [
    "from skyfield.api import EarthSatellite, Topos, load\n",
    "\n",
    "ts = load.timescale()\n",
    "\n",
    "# Old ISS data\n",
    "line1 = '1 25544U 98067A   14020.93268519  .00009878  00000-0  18200-3 0  5082'\n",
    "line2 = '2 25544  51.6498 109.4756 0003572  55.9686 274.8005 15.49815350868473'\n",
    "satellite = EarthSatellite(line1, line2, 'ISS (ZARYA)', ts)\n",
    "\n",
    "# Sample location\n",
    "bluffton = Topos('40.8939 N', '83.8917 W')\n",
    "\n",
    "# Relative vector\n",
    "difference = satellite - bluffton\n",
    "t0 = ts.utc(2017, 1, 23)\n",
    "t1 = ts.utc(2017, 1, 24)\n",
    "topocentric = difference.at(t0)\n",
    "alt, az, distance = topocentric.altaz()\n",
    "\n",
    "# Quick report for t0\n",
    "if alt.degrees > 0:\n",
    "    print('The ISS is above the horizon')\n",
    "print(alt, az, int(distance.km), 'km')\n",
    "\n",
    "# When does it rise and set, between t0 and t1, for this location?\n",
    "times, events = satellite.find_events(bluffton, t0, t1 , altitude_degrees=30.0)\n",
    "for ti, event in zip(times, events):\n",
    "    name = ('rise above 30°', 'culminate', 'set below 30°')[event]\n",
    "    print(ti.utc_strftime('%Y %b %d %H:%M:%S'), name)\n"
   ]
  },
  {
   "cell_type": "markdown",
   "metadata": {},
   "source": [
    "### Other Resources\n",
    "* Interactive web page, [Satellite beam design](https://www.satsig.net/satellite/satellite-beam-design.htm)\n",
    "Plots rough ellipses, but seems to be embedded js, not RESTful. Uses Google for the map.\n",
    "\n",
    "* Alan Washburn (NPS), [Earth Coverage by Satellites in Circular Orbit](https://faculty.nps.edu/awashburn/Files/Notes/EARTHCOV.pdf)\n",
    "\n",
    "\n",
    "* Bieliech et al 2019: [A study into satellite coverage...](https://clas.ucdenver.edu/math-clinic/sites/default/files/attached-files/ball_final_report.pdf)\n",
    "\"Math Clinic\" capstone project, sponsored by Ball Aerospace. We have permission to use their jupyter notebook, which does the Kepler orbit calculations from scratch. However, while we could use it to check other solutions, we don't have redistribution rights, so it shouldn't go in the repo or solution.  See also [Commentary on Bielich et al. by Prof. Fournier](https://clas.ucdenver.edu/math-clinic/sites/default/files/attached-files/ball_final_report.pdf) for limitations.\n",
    "\n",
    "* Cakaj et al [The coverage analysis for LEO satellites at low elevation](https://thesai.org/Downloads/Volume5No6/Paper_2-The_Coverage_Analysis_for_Low_Earth_Orbiting_Satellites_at_Low_Elevation.pdf)\n",
    "IJACSA 5:6, 2014.\n",
    "\n",
    "* Bettner, [Tools for Satellite Ground Track and Coverage Analysis](https://apps.dtic.mil/dtic/tr/fulltext/u2/a286848.pdf) via DTIC. 1995 report for USAF, software in Microsoft Excel(!!). Gives Visual Basic code in the appendix.\n",
    "\n",
    "\n",
    "### Alan Goldberg of NOVAC suggests: \n",
    "\n",
    ">If your application is to determine satellite FOR, I suggest \n",
    "https://www.taitussoftware.com/products/applications/savoir/.  ...\n",
    "> It was easier to use than either STK or government proprietary software.\n",
    "\n",
    "However, I think it's commercial proprietary, so no go. He continues:\n",
    "\n",
    ">Other options, which I have not used myself:\n",
    "> \n",
    "> I suspect you will find what you need in this \n",
    "> http://celestrak.com/publications/AIAA/2006-6753/\n",
    "> \n",
    "> Here is a matlab routine \n",
    "> https://in.mathworks.com/matlabcentral/fileexchange/55698-satellite-ephemeris-to-lla-eph2lla-m\n",
    "> \n",
    "> JPL’s HORIZON can do everything, but may not be convenient \n",
    "> https://ssd.jpl.nasa.gov/?horizons_doc\n",
    "> \n",
    "> If you roll your own, I’d suggest first changing the satellite from TLE (which is \n",
    "in ECI frame) to cartesian in the ECEF(WGS-84) frame, then converting to geodetic \n",
    "or whatever other system you wish."
   ]
  },
  {
   "cell_type": "code",
   "execution_count": null,
   "metadata": {},
   "outputs": [],
   "source": []
  }
 ],
 "metadata": {
  "kernelspec": {
   "display_name": "Python 3",
   "language": "python",
   "name": "python3"
  }
 },
 "nbformat": 4,
 "nbformat_minor": 2
}
