{
 "cells": [
  {
   "cell_type": "code",
   "execution_count": null,
   "metadata": {},
   "outputs": [],
   "source": [
    "import pyspark.sql.functions as F"
   ]
  },
  {
   "cell_type": "code",
   "execution_count": null,
   "metadata": {},
   "outputs": [
    {
     "data": {
      "text/html": [
       "<style>.container { width:90% !important; }</style>"
      ],
      "text/plain": [
       "<IPython.core.display.HTML object>"
      ]
     },
     "metadata": {},
     "output_type": "display_data"
    }
   ],
   "source": [
    "from IPython.core.display import display, HTML\n",
    "display(HTML(\"<style>.container { width:90% !important; }</style>\"))"
   ]
  },
  {
   "cell_type": "code",
   "execution_count": null,
   "metadata": {},
   "outputs": [
    {
     "name": "stdout",
     "output_type": "stream",
     "text": [
      "9088564\n",
      "9088555\n"
     ]
    },
    {
     "data": {
      "text/plain": [
       "DataFrame[mmsi: string, basedatetime: string, lat: float, lon: float, sog: float, cog: float, heading: float, vesselname: string, imo: string, callsign: string, vesseltype: string, status: string, length: float, width: float, draft: float, cargo: int]"
      ]
     },
     "execution_count": null,
     "metadata": {},
     "output_type": "execute_result"
    }
   ],
   "source": [
    "ais = spark.table('af_vault.ais')\n",
    "print(ais.count())\n",
    "ais = ais.filter(ais['basedatetime']!='BaseDateTime')\n",
    "print(ais.count())\n",
    "ais.cache()"
   ]
  },
  {
   "cell_type": "code",
   "execution_count": null,
   "metadata": {},
   "outputs": [],
   "source": [
    "ais = ais.withColumn('year', ais['basedatetime'].substr(1,4))\n",
    "ais = ais.withColumn('month', ais['basedatetime'].substr(6,2))\n",
    "ais = ais.withColumn('day', ais['basedatetime'].substr(9,2))"
   ]
  },
  {
   "cell_type": "code",
   "execution_count": null,
   "metadata": {},
   "outputs": [
    {
     "name": "stdout",
     "output_type": "stream",
     "text": [
      "+---------+-------------------+--------+----------+----+------+-------+----------+----------+--------+----------+--------------------+------+-----+-----+-----+----+-----+---+\n",
      "|     mmsi|       basedatetime|     lat|       lon| sog|   cog|heading|vesselname|       imo|callsign|vesseltype|              status|length|width|draft|cargo|year|month|day|\n",
      "+---------+-------------------+--------+----------+----+------+-------+----------+----------+--------+----------+--------------------+------+-----+-----+-----+----+-----+---+\n",
      "|235091871|2015-01-01T00:08:26|52.78763|-175.62761|10.3|  74.5|   86.0|EVA BULKER|IMO9544164|   2FJU4|        70|under way using e...| 185.0| 31.0|  6.6|   70|2015|   01| 01|\n",
      "|247119100|2015-01-01T05:36:17|52.87994|-176.21738|10.7|-148.8|  263.0|      POLE|IMO9128245|    IBTE|        70|under way using e...| 224.0| 32.0|-12.8|   70|2015|   01| 01|\n",
      "|247119100|2015-01-01T06:28:57|52.83234|-176.46661|11.0|-160.8|  254.0|      POLE|IMO9128245|    IBTE|        70|under way using e...| 224.0| 32.0|-12.8|   70|2015|   01| 01|\n",
      "|247119100|2015-01-01T06:32:27|52.82851|-176.48291|11.0|-160.6|  254.0|      POLE|IMO9128245|    IBTE|        70|under way using e...| 224.0| 32.0|-12.8|   70|2015|   01| 01|\n",
      "+---------+-------------------+--------+----------+----+------+-------+----------+----------+--------+----------+--------------------+------+-----+-----+-----+----+-----+---+\n",
      "only showing top 4 rows\n",
      "\n"
     ]
    }
   ],
   "source": [
    "ais.show(4)"
   ]
  },
  {
   "cell_type": "code",
   "execution_count": null,
   "metadata": {},
   "outputs": [],
   "source": []
  }
 ],
 "metadata": {
  "kernelspec": {
   "display_name": "Python 3",
   "language": "python",
   "name": "python3"
  }
 },
 "nbformat": 4,
 "nbformat_minor": 4
}
